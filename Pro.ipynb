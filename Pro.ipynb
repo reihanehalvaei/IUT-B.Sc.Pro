{
 "cells": [
  {
   "cell_type": "markdown",
   "metadata": {},
   "source": [
    "# Adding Libs"
   ]
  },
  {
   "cell_type": "code",
   "execution_count": 1,
   "metadata": {},
   "outputs": [],
   "source": [
    "import networkx as nx\n",
    "import numpy as np\n",
    "import matplotlib.pyplot as plt\n",
    "from   networkx.algorithms import community\n",
    "import scipy.io\n",
    "import pandas as pd\n",
    "import random\n",
    "import scipy.stats as stats\n",
    "import statsmodels.api as sm\n",
    "from statsmodels.formula.api import ols\n",
    "from sklearn.mixture import GaussianMixture"
   ]
  },
  {
   "cell_type": "markdown",
   "metadata": {},
   "source": [
    "## Initialization"
   ]
  },
  {
   "cell_type": "code",
   "execution_count": 2,
   "metadata": {},
   "outputs": [],
   "source": [
    "connectomes = []"
   ]
  },
  {
   "cell_type": "markdown",
   "metadata": {},
   "source": [
    "# Loading Data"
   ]
  },
  {
   "cell_type": "code",
   "execution_count": 3,
   "metadata": {},
   "outputs": [],
   "source": [
    "files_path = \"./Autism_rsfmri/\"\n",
    "from os import listdir\n",
    "from os.path import isfile, join\n",
    "onlyfiles = [f for f in listdir(files_path) if isfile(join(files_path, f)) and f.find('connectivity_matrix')>=0]"
   ]
  },
  {
   "cell_type": "code",
   "execution_count": 4,
   "metadata": {},
   "outputs": [],
   "source": [
    "fn = \"ASD67B_rsfMRI_region_names_full_file.txt\"\n",
    "region_names_full = []\n",
    "with open(join(files_path, fn), 'r') as f:        \n",
    "    region_names_full = [line for line in f]\n",
    "\n",
    "fn = \"ASD67B_rsfMRI_region_names_abbrev_file.txt\"\n",
    "region_names_abbrev = []\n",
    "with open(join(files_path, fn), 'r') as f:        \n",
    "    region_names_abbrev = [line for line in f]\n",
    "    \n",
    "def del_inf(conn_matrix):\n",
    "    for i in range(len(conn_matrix)):\n",
    "        conn_matrix[i][i] = 0        "
   ]
  },
  {
   "cell_type": "code",
   "execution_count": 5,
   "metadata": {},
   "outputs": [],
   "source": [
    "for file_name in onlyfiles:\n",
    "    fn = file_name[0:file_name.find('_rsfMRI_connectivity_matrix_file')]\n",
    "\n",
    "       \n",
    "    with open(join(files_path, file_name), 'r') as f:\n",
    "        \n",
    "        conn_matrix = [[float(num) for num in line.split()] for line in f]\n",
    "        \n",
    "    del_inf(conn_matrix)\n",
    "        \n",
    "    tmp_dict = {\n",
    "        \"type\": \"ASD\" if fn.find('ASD')>=0 else \"TD\",\n",
    "        \"name\": fn[3:] if fn.find('ASD')>=0 else fn[2:],\n",
    "        \"conn_matrix\": np.array(conn_matrix),\n",
    "    }\n",
    "    \n",
    "    connectomes.append(tmp_dict)"
   ]
  },
  {
   "cell_type": "markdown",
   "metadata": {},
   "source": [
    "# Functions for Feature Extraction "
   ]
  },
  {
   "cell_type": "code",
   "execution_count": 6,
   "metadata": {},
   "outputs": [],
   "source": [
    "def get_all_node_strength(conn):\n",
    "    \n",
    "    A = nx.to_numpy_array(conn[\"graph\"])\n",
    "    G = np.multiply(A,conn[\"conn_matrix\"])\n",
    "    out = np.sum(G, axis=0)\n",
    "    m = np.mean(out)\n",
    "    v = np.var(out)\n",
    "    out = (out-m)/v\n",
    "    return np.array(out)\n",
    "\n",
    "\n",
    "def get_all_eccentricity(conn):\n",
    "\n",
    "    ecc = nx.algorithms.distance_measures.eccentricity(conn[\"graph\"])\n",
    "    out = np.array(list(ecc.values()))\n",
    "    out = out/(conn[\"conn_matrix\"].shape[0]-1)  \n",
    "    return np.array(out)\n",
    "\n",
    "\n",
    "def get_all_triangles(conn):\n",
    "    \n",
    "    out = np.array(list(nx.triangles(conn[\"graph\"]).values()))\n",
    "    n = conn[\"conn_matrix\"].shape[0]\n",
    "    out = out/((n-1)*(n-2)/2)\n",
    "    return np.array(out)\n",
    "\n",
    "\n",
    "def get_all_clustring(conn):\n",
    "    \n",
    "    out = np.array(list(nx.clustering(conn[\"graph\"]).values()))    \n",
    "    return np.array(out)\n",
    "\n",
    "    \n",
    "def get_all_degree_centrality(conn):\n",
    "    \n",
    "    out = np.array(list(nx.algorithms.centrality.degree_centrality(conn[\"graph\"]).values()))    \n",
    "    return np.array(out)\n",
    "\n",
    "\n",
    "def get_all_closeness_centrality(conn):\n",
    "    \n",
    "    out = np.array(list(nx.algorithms.centrality.closeness_centrality(conn[\"graph\"]).values()))   \n",
    "    return np.array(out)\n",
    "\n",
    "\n",
    "def get_all_betweenness_centrality(conn):\n",
    "    \n",
    "    out = np.array(list(nx.algorithms.centrality.betweenness_centrality(conn[\"graph\"]).values())) \n",
    "    return np.array(out)\n",
    "\n",
    "\n",
    "def get_all_eigenvector_centrality(conn):\n",
    "    \n",
    "    out = nx.algorithms.centrality.eigenvector_centrality(conn[\"graph\"])\n",
    "    out = np.array(list(out.values()))  \n",
    "    return np.array(out)"
   ]
  },
  {
   "cell_type": "code",
   "execution_count": 7,
   "metadata": {},
   "outputs": [],
   "source": [
    "def get_max_and_min(data):\n",
    "    q1 = np.percentile(data, 25)\n",
    "    q3 = np.percentile(data, 75)\n",
    "    iqr = q3-q1\n",
    "    maximum = np.max(data[(data <= (q3 + 1.5*iqr))])\n",
    "    minimum = np.min(data[(data >= (q1 - 1.5*iqr))])\n",
    "    return {'rmax':np.max(data),'rmin':np.min(data),'emax':q3,'emin':q1}\n",
    "\n",
    "\n",
    "def get_summerized(data):\n",
    "    \n",
    "    out = data\n",
    "    mm = get_max_and_min(out)    \n",
    "    return np.array([mm['rmax'], mm['emax'], np.median(out), np.mean(out), mm['emin'], mm['rmin']])\n",
    "\n",
    "\n",
    "def get_modularity(conn):\n",
    "    communities_generator = community.girvan_newman(conn[\"graph\"])\n",
    "    top_level_communities = next(communities_generator)\n",
    "    next_level_communities = next(communities_generator)\n",
    "    comm = sorted(map(sorted, next_level_communities))\n",
    "    \n",
    "    return np.array(nx.algorithms.community.modularity(conn[\"graph\"],comm))\n",
    "\n",
    "\n",
    "def get_global_efficiency(conn):\n",
    "    out = nx.algorithms.efficiency_measures.global_efficiency(conn[\"graph\"])    \n",
    "    return np.array(out)\n",
    "\n",
    "\n",
    "def get_total_triangles(conn):\n",
    "    \n",
    "    out = conn[\"all_triangles\"]\n",
    "    n = conn[\"conn_matrix\"].shape[0]\n",
    "    out = np.sum(out)/(n*(n-1)*(n-2)/18)     \n",
    "    return np.array(out)"
   ]
  },
  {
   "cell_type": "markdown",
   "metadata": {},
   "source": [
    "# Extracting feature for each"
   ]
  },
  {
   "cell_type": "code",
   "execution_count": 8,
   "metadata": {},
   "outputs": [],
   "source": [
    "j = 0.4\n",
    "i = 0\n",
    "\n",
    "for conn in connectomes:\n",
    "    j = 0.35\n",
    "    mat35 = (conn[\"conn_matrix\"] >= j)*1 + (conn[\"conn_matrix\"] <= -j)*1\n",
    "    j = 0.4 \n",
    "    mat4 = (conn[\"conn_matrix\"] >= j)*1 + (conn[\"conn_matrix\"] <= -j)*1\n",
    "    conn[\"graph\"]         = nx.from_numpy_matrix(mat35 - mat4)\n",
    "    conn[\"all_node_strength\"] = get_all_node_strength(conn)\n",
    "    conn[\"all_eccentricity\"]  = get_all_eccentricity(conn)\n",
    "    conn[\"all_triangles\"]     = get_all_triangles(conn)\n",
    "    conn[\"all_clustring\"]     = get_all_clustring(conn)\n",
    "    conn[\"all_bet_cent\"]      = get_all_betweenness_centrality(conn)\n",
    "    conn[\"all_close_cent\"]    = get_all_closeness_centrality(conn)\n",
    "    conn[\"all_deg_cent\"]      = get_all_degree_centrality(conn)\n",
    "    conn[\"all_eig_cent\"]      = get_all_eigenvector_centrality(conn)\n"
   ]
  },
  {
   "cell_type": "code",
   "execution_count": 9,
   "metadata": {
    "scrolled": true
   },
   "outputs": [],
   "source": [
    "i = 0\n",
    "\n",
    "for conn in connectomes:\n",
    "    conn[\"node_strength\"] = get_summerized(conn[\"all_node_strength\"])\n",
    "    conn[\"eccentricity\"]  = get_summerized(conn[\"all_eccentricity\"])\n",
    "    conn[\"triangles\"]     = get_summerized(conn[\"all_triangles\"])\n",
    "    conn[\"clustring\"]     = get_summerized(conn[\"all_clustring\"])\n",
    "    conn[\"bet_cent\"]      = get_summerized(conn[\"all_bet_cent\"])\n",
    "    conn[\"close_cent\"]    = get_summerized(conn[\"all_close_cent\"])\n",
    "    conn[\"deg_cent\"]      = get_summerized(conn[\"all_deg_cent\"])\n",
    "    conn[\"eig_cent\"]      = get_summerized(conn[\"all_eig_cent\"])\n",
    "    conn[\"glob_eff\"]      = get_global_efficiency(conn)\n",
    "    conn[\"modularity\"]      = get_global_efficiency(conn)"
   ]
  },
  {
   "cell_type": "code",
   "execution_count": 11,
   "metadata": {},
   "outputs": [],
   "source": [
    "#with open('modularity0-4.npy', 'rb') as f:\n",
    "#    for conn in connectomes :\n",
    "#        conn[\"modularity\"] = np.load(f)"
   ]
  },
  {
   "cell_type": "markdown",
   "metadata": {},
   "source": [
    "# Selecting best features"
   ]
  },
  {
   "cell_type": "code",
   "execution_count": 49,
   "metadata": {},
   "outputs": [],
   "source": [
    "all_feat = []\n",
    "feats_name = [\"node_strength\", \"eccentricity\", \"triangles\", \"clustring\", \"bet_cent\" \\\n",
    "             , \"close_cent\", \"deg_cent\"]\n",
    "\n",
    "for conn in connectomes:\n",
    "    temp = []\n",
    "    for feat_n in feats_name:\n",
    "        temp.append(conn[feat_n].tolist())\n",
    "        \n",
    "    temp = np.array(temp)\n",
    "    temp = np.append(temp, conn[\"modularity\"])\n",
    "    temp = np.append(temp, conn[\"glob_eff\"])\n",
    "    temp = temp.flatten()\n",
    "    \n",
    "    temp = temp[[13,14,15,16,20,24,27,31,32,33,34,37,38,39,42,43]]#8,12\n",
    "    all_feat.append(temp)   \n",
    "    \n",
    "features = np.array(all_feat)"
   ]
  },
  {
   "cell_type": "markdown",
   "metadata": {},
   "source": [
    "# ----------------------------------------------------------------------------------------------------"
   ]
  },
  {
   "cell_type": "markdown",
   "metadata": {},
   "source": [
    "# Real Labels"
   ]
  },
  {
   "cell_type": "code",
   "execution_count": 32,
   "metadata": {},
   "outputs": [],
   "source": [
    "tlabels = []\n",
    "for conn in connectomes:\n",
    "    tlabels.append(conn[\"type\"])\n",
    "tlabels0 = (np.array(tlabels)!='ASD')*1\n",
    "tlabels1 = (np.array(tlabels)=='ASD')*1\n",
    "tlabels = (np.array(tlabels)!='ASD')*1"
   ]
  },
  {
   "cell_type": "markdown",
   "metadata": {},
   "source": [
    "# Clustering"
   ]
  },
  {
   "cell_type": "markdown",
   "metadata": {},
   "source": [
    "### Agglomerative Clustering"
   ]
  },
  {
   "cell_type": "code",
   "execution_count": 66,
   "metadata": {},
   "outputs": [
    {
     "name": "stdout",
     "output_type": "stream",
     "text": [
      "10 21 0.3225806451612903 0.6774193548387096 0.3548387096774194\n",
      "13 7 0.65 0.35 0.3\n",
      "14 14 0.5 0.5 0.0\n"
     ]
    },
    {
     "data": {
      "text/plain": [
       "0.2182795698924731"
      ]
     },
     "execution_count": 66,
     "metadata": {},
     "output_type": "execute_result"
    }
   ],
   "source": [
    "ncl = 3\n",
    "summ = 0\n",
    "\n",
    "from sklearn.cluster import  AgglomerativeClustering\n",
    "aggl = AgglomerativeClustering(n_clusters=ncl).fit(all_feat) #‘ward’, ‘complete’, ‘average’, ‘single’}\n",
    "alabels = aggl.labels_\n",
    "\n",
    "for i in range(ncl):\n",
    "    s = np.sum(((alabels==i)*1*tlabels0)) # normal people\n",
    "    ns = np.sum(((alabels==i)*1*tlabels1)) # autistic people\n",
    "    print(s, ns, s/(s+ns), ns/(s+ns), abs(s-ns)/(s+ns))\n",
    "    summ += abs(s-ns)/(s+ns)\n",
    "summ/ncl\n",
    "    "
   ]
  },
  {
   "cell_type": "markdown",
   "metadata": {},
   "source": [
    "### Gaussian Mixture"
   ]
  },
  {
   "cell_type": "code",
   "execution_count": 104,
   "metadata": {},
   "outputs": [
    {
     "name": "stdout",
     "output_type": "stream",
     "text": [
      "24 19 0.5581395348837209 0.4418604651162791 0.11627906976744186\n",
      "13 23 0.3611111111111111 0.6388888888888888 0.2777777777777778\n"
     ]
    },
    {
     "data": {
      "text/plain": [
       "0.19702842377260982"
      ]
     },
     "execution_count": 104,
     "metadata": {},
     "output_type": "execute_result"
    }
   ],
   "source": [
    "ncl = 2\n",
    "summ = 0\n",
    "\n",
    "from sklearn.mixture import GaussianMixture\n",
    "gm = GaussianMixture(n_components=ncl, random_state=0).fit(all_feat)\n",
    "\n",
    "glabels = gm.predict(all_feat)\n",
    "\n",
    "for i in range(ncl):\n",
    "    s = np.sum(((glabels==i)*1*tlabels0))\n",
    "    ns = np.sum(((glabels==i)*1*tlabels1))\n",
    "    print(s, ns, s/(s+ns), ns/(s+ns), abs(s-ns)/(s+ns))\n",
    "    summ += abs(s-ns)/(s+ns)\n",
    "summ/ncl\n",
    "    \n"
   ]
  },
  {
   "cell_type": "code",
   "execution_count": 108,
   "metadata": {},
   "outputs": [
    {
     "name": "stderr",
     "output_type": "stream",
     "text": [
      "C:\\Users\\Ideal\\anaconda3\\lib\\site-packages\\numpy\\core\\_asarray.py:83: VisibleDeprecationWarning: Creating an ndarray from ragged nested sequences (which is a list-or-tuple of lists-or-tuples-or ndarrays with different lengths or shapes) is deprecated. If you meant to do this, you must specify 'dtype=object' when creating the ndarray\n",
      "  return array(a, dtype, copy=False, order=order)\n"
     ]
    },
    {
     "data": {
      "image/png": "[encoded data removed]",
      "text/plain": [
       "<Figure size 432x288 with 1 Axes>"
      ]
     },
     "metadata": {
      "needs_background": "light"
     },
     "output_type": "display_data"
    }
   ],
   "source": [
    "import matplotlib.pyplot as plt\n",
    "\n",
    "plt.figure()\n",
    "labels = glabels\n",
    "fea = features[:,8]\n",
    "\n",
    "datas_for_plotting = [[] for i in range(max(labels)+1)]\n",
    "\n",
    "for i in range(79):\n",
    "    conn = connectomes[i]\n",
    "    datas_for_plotting[labels[i]].append(fea[i])\n",
    "\n",
    "bp = plt.boxplot(datas_for_plotting)\n",
    "\n",
    "for i in range(max(labels)+1):\n",
    "    y = datas_for_plotting[i]\n",
    "    x = np.random.normal(1+i, 0.04, size=len(y))\n",
    "    plt.plot(x, y, 'r.', alpha=0.4)\n"
   ]
  },
  {
   "cell_type": "code",
   "execution_count": 94,
   "metadata": {},
   "outputs": [
    {
     "data": {
      "image/png": "[encoded data removed]",
      "text/plain": [
       "<Figure size 432x288 with 1 Axes>"
      ]
     },
     "metadata": {
      "needs_background": "light"
     },
     "output_type": "display_data"
    }
   ],
   "source": [
    "\n",
    "\n",
    "N = ncl\n",
    "TD = (14,4,12,0,7)\n",
    "ASD = (13,9,5,4,11)\n",
    "\n",
    "#[72,55,65,6]\n",
    "#[80,54,71,59]\n",
    "\n",
    "#[68,62,59]\n",
    "#[75,66,56]\n",
    "\n",
    "#[61,61]\n",
    "#[65,62]\n",
    "\n",
    "\n",
    "\n",
    "ind = np.arange(N) \n",
    "width = 0.35       \n",
    "plt.bar(ind, TD, width, label='TD')\n",
    "plt.bar(ind + width, ASD, width,\n",
    "    label='ASD')\n",
    "\n",
    "plt.ylabel('number')\n",
    "\n",
    "# Good features | p-value threshold=0.05\n",
    "\n",
    "plt.xticks(ind + width / 2, ('1', '2', '3','4','5'))\n",
    "plt.legend(loc='best')\n",
    "plt.show()"
   ]
  },
  {
   "cell_type": "markdown",
   "metadata": {},
   "source": [
    "### box plot of  a feature"
   ]
  },
  {
   "cell_type": "code",
   "execution_count": 70,
   "metadata": {},
   "outputs": [
    {
     "data": {
      "image/png": "[encoded data removed]",
      "text/plain": [
       "<Figure size 432x288 with 2 Axes>"
      ]
     },
     "metadata": {
      "needs_background": "light"
     },
     "output_type": "display_data"
    }
   ],
   "source": [
    "mat = (glabels)*1\n",
    "mat = np.append(mat,5)\n",
    "mat = mat.reshape(8,10)\n",
    "\n",
    "\n",
    "#fig = plt.figure(figsize=(8,10))\n",
    "x = np.arange(0.5, 10+1, 1)  \n",
    "y = np.arange(0.5, 8+1, 1)  \n",
    "\n",
    "plt.pcolormesh(x,y,mat,cmap=\"tab20b\")\n",
    "plt.colorbar()\n",
    "plt.clim(0, 5)"
   ]
  },
  {
   "cell_type": "markdown",
   "metadata": {},
   "source": [
    "# -------------------------------------------------------------------------------------------------------"
   ]
  },
  {
   "cell_type": "markdown",
   "metadata": {},
   "source": [
    "# ANOVA"
   ]
  },
  {
   "cell_type": "code",
   "execution_count": 56,
   "metadata": {},
   "outputs": [
    {
     "name": "stdout",
     "output_type": "stream",
     "text": [
      "0\n",
      "1.3162e-06\n",
      "1\n",
      "1.6532e-08\n",
      "2\n",
      "2.3034e-10\n",
      "3\n",
      "5.8869e-06\n",
      "4\n",
      "0.00466662\n",
      "5\n",
      "0.00806504\n",
      "6\n",
      "1.7377e-20\n",
      "7\n",
      "2.5805e-18\n",
      "8\n",
      "3.7083e-22\n",
      "9\n",
      "2.9971e-21\n",
      "10\n",
      "6.5045e-16\n",
      "11\n",
      "2.0297e-07\n",
      "12\n",
      "2.6148e-05\n",
      "13\n",
      "7.6591e-21\n",
      "14\n",
      "5.2582e-21\n",
      "15\n",
      "5.2582e-21\n"
     ]
    }
   ],
   "source": [
    "fea_num = features.shape[1]\n",
    "\n",
    "\n",
    "for j in range(fea_num):\n",
    "    print(j)\n",
    "    fea = features[:,j]\n",
    "    people_frame = pd.DataFrame({\"type\" : glabels})\n",
    "    groups = people_frame.groupby(\"type\").groups\n",
    "    g = []\n",
    "\n",
    "    for i in range(2):\n",
    "        g.append(fea[groups[i]])\n",
    "\n",
    "\n",
    "    num = stats.f_oneway(*g)[1]\n",
    "    num_str = str(num).split('e')\n",
    "    \n",
    "    if num_str[0]=='nan':\n",
    "        print(num)\n",
    "    elif len(num_str)>1:\n",
    "        print('{:.4f}'.format(float(num_str[0]))+'e'+num_str[1])\n",
    "    else:\n",
    "        print('{:.8f}'.format(float(num_str[0])))"
   ]
  },
  {
   "cell_type": "markdown",
   "metadata": {},
   "source": [
    "# post-hoc"
   ]
  },
  {
   "cell_type": "code",
   "execution_count": 11,
   "metadata": {},
   "outputs": [
    {
     "ename": "NameError",
     "evalue": "name 'all_feat' is not defined",
     "output_type": "error",
     "traceback": [
      "\u001b[1;31m---------------------------------------------------------------------------\u001b[0m",
      "\u001b[1;31mNameError\u001b[0m                                 Traceback (most recent call last)",
      "\u001b[1;32m<ipython-input-11-359598b44f07>\u001b[0m in \u001b[0;36m<module>\u001b[1;34m\u001b[0m\n\u001b[0;32m      1\u001b[0m \u001b[0mncl\u001b[0m \u001b[1;33m=\u001b[0m \u001b[1;36m4\u001b[0m\u001b[1;33m\u001b[0m\u001b[1;33m\u001b[0m\u001b[0m\n\u001b[1;32m----> 2\u001b[1;33m \u001b[0mgm\u001b[0m \u001b[1;33m=\u001b[0m \u001b[0mGaussianMixture\u001b[0m\u001b[1;33m(\u001b[0m\u001b[0mn_components\u001b[0m\u001b[1;33m=\u001b[0m\u001b[0mncl\u001b[0m\u001b[1;33m,\u001b[0m \u001b[0mrandom_state\u001b[0m\u001b[1;33m=\u001b[0m\u001b[1;36m0\u001b[0m\u001b[1;33m)\u001b[0m\u001b[1;33m.\u001b[0m\u001b[0mfit\u001b[0m\u001b[1;33m(\u001b[0m\u001b[0mall_feat\u001b[0m\u001b[1;33m)\u001b[0m\u001b[1;33m\u001b[0m\u001b[1;33m\u001b[0m\u001b[0m\n\u001b[0m\u001b[0;32m      3\u001b[0m \u001b[0mlabels\u001b[0m \u001b[1;33m=\u001b[0m \u001b[0mgm\u001b[0m\u001b[1;33m.\u001b[0m\u001b[0mpredict\u001b[0m\u001b[1;33m(\u001b[0m\u001b[0mall_feat\u001b[0m\u001b[1;33m)\u001b[0m\u001b[1;33m\u001b[0m\u001b[1;33m\u001b[0m\u001b[0m\n\u001b[0;32m      4\u001b[0m \u001b[1;33m\u001b[0m\u001b[0m\n\u001b[0;32m      5\u001b[0m \u001b[0mfea_num\u001b[0m \u001b[1;33m=\u001b[0m \u001b[0mfeatures\u001b[0m\u001b[1;33m.\u001b[0m\u001b[0mshape\u001b[0m\u001b[1;33m[\u001b[0m\u001b[1;36m1\u001b[0m\u001b[1;33m]\u001b[0m\u001b[1;33m\u001b[0m\u001b[1;33m\u001b[0m\u001b[0m\n",
      "\u001b[1;31mNameError\u001b[0m: name 'all_feat' is not defined"
     ]
    }
   ],
   "source": [
    "ncl = 4\n",
    "gm = GaussianMixture(n_components=ncl, random_state=0).fit(all_feat)\n",
    "labels = gm.predict(all_feat)\n",
    "\n",
    "fea_num = features.shape[1]\n",
    "\n",
    "for item in range(fea_num) :\n",
    "    print(item)\n",
    "    feas = features[:,item]\n",
    "    m = max(labels)+1\n",
    "    mat = np.ones([m,m])\n",
    "    for i in range(m):\n",
    "        for j in range(i+1,m):\n",
    "            l = np.array(((labels == i)*0 + (labels == j)*1))\n",
    "            idx = np.array(((labels == i)*1 + (labels == j)*1)==1)\n",
    "            l = l[idx]\n",
    "            fea = feas[idx]\n",
    "            people_frame = pd.DataFrame({\"type\" : l , \"triangles\" : fea})\n",
    "            groups = people_frame.groupby(\"type\").groups\n",
    "            g = []\n",
    "\n",
    "            for k in range(2):\n",
    "                g.append(fea[groups[k]])\n",
    "\n",
    "\n",
    "            num = stats.f_oneway(*g)[1]\n",
    "            num_str = str(num).split('e')\n",
    "            mat[i][j]=num\n",
    "            mat[j][i]=num\n",
    "\n",
    "    \n",
    "    fig = plt.figure(figsize=(8,6))\n",
    "    x = np.arange(0.5, ncl+1, 1)  \n",
    "    y = np.arange(0.5, ncl+1, 1)  \n",
    "\n",
    "    plt.pcolormesh(x,y,mat,cmap=\"summer\")\n",
    "    plt.title(\"Plot 2D array\")\n",
    "    plt.clim(0, 0.05)\n",
    "    plt.colorbar()\n",
    "    \n",
    "    for a in range(ncl):\n",
    "        for b in range(ncl):\n",
    "            c = mat[b][a]\n",
    "            num_str = str(c).split('e')\n",
    "            if a==b:\n",
    "                c = 'nan'\n",
    "            elif len(num_str)>1:\n",
    "                c = '{:.2f}'.format(float(num_str[0]))+'e'+num_str[1]\n",
    "            else:\n",
    "                c = '{:.4f}'.format(float(num_str[0]))\n",
    "            plt.text(a+0.7, b+1, str(c))\n",
    "    plt.show()\n"
   ]
  },
  {
   "cell_type": "markdown",
   "metadata": {},
   "source": [
    "# --------------------------------------------------------------------------------------------------"
   ]
  },
  {
   "cell_type": "code",
   "execution_count": 30,
   "metadata": {},
   "outputs": [
    {
     "data": {
      "text/plain": [
       "array([0.63231651, 0.62271479, 0.62820697, 0.64824096, 0.59509304,\n",
       "       0.60131256, 0.61485578, 0.6160704 , 0.63650766, 0.61193206,\n",
       "       0.63079464, 0.58560414, 0.61179283, 0.61646647, 0.58686677,\n",
       "       0.60779852, 0.62469274, 0.60416907, 0.61849003, 0.60626224,\n",
       "       0.62231632, 0.6104966 , 0.59781273, 0.62237393, 0.64757365,\n",
       "       0.59221492, 0.61193686, 0.61087587, 0.59293025, 0.62372777,\n",
       "       0.61509102, 0.64597976, 0.58901275, 0.62896551, 0.61306986,\n",
       "       0.59591159, 0.5887295 , 0.6076977 , 0.67770865, 0.65088624,\n",
       "       0.62462073, 0.59636287, 0.60838902, 0.59602681, 0.6355859 ,\n",
       "       0.64018512, 0.63295503, 0.67366632, 0.60485559, 0.59874409,\n",
       "       0.60685755, 0.62579694, 0.62374698, 0.60395783, 0.60956043,\n",
       "       0.61508862, 0.65650805, 0.61173042, 0.66022871, 0.61565272,\n",
       "       0.63812555, 0.62032396, 0.59345355, 0.60077006, 0.65765545,\n",
       "       0.67587472, 0.62759246, 0.61501421, 0.65464531, 0.60462515,\n",
       "       0.63769828, 0.64430906, 0.6065743 , 0.64728079, 0.6272468 ,\n",
       "       0.64700714, 0.62562411, 0.66670987, 0.62676672])"
      ]
     },
     "execution_count": 30,
     "metadata": {},
     "output_type": "execute_result"
    }
   ],
   "source": []
  },
  {
   "cell_type": "code",
   "execution_count": null,
   "metadata": {},
   "outputs": [],
   "source": []
  }
 ],
 "metadata": {
  "kernelspec": {
   "display_name": "Python 3",
   "language": "python",
   "name": "python3"
  },
  "language_info": {
   "codemirror_mode": {
    "name": "ipython",
    "version": 3
   },
   "file_extension": ".py",
   "mimetype": "text/x-python",
   "name": "python",
   "nbconvert_exporter": "python",
   "pygments_lexer": "ipython3",
   "version": "3.8.3"
  }
 },
 "nbformat": 4,
 "nbformat_minor": 4
}
